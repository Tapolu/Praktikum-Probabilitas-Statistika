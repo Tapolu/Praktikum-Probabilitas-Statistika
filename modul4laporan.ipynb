{
 "cells": [
  {
   "cell_type": "code",
   "execution_count": 10,
   "id": "1ff710d8",
   "metadata": {},
   "outputs": [
    {
     "name": "stdout",
     "output_type": "stream",
     "text": [
      "Probabilitas P(X=k) untuk distribusi binomial: 0.1171875\n"
     ]
    }
   ],
   "source": [
    "import math\n",
    "\n",
    "# Fungsi untuk menghitung kombinasi (n choose k)\n",
    "def n_choose_k(n, k):\n",
    "    return math.factorial(n) / (math.factorial(k) * math.factorial(n - k))\n",
    "\n",
    "# Fungsi untuk menghitung probabilitas P(X=k) dalam distribusi binomial\n",
    "def binomial_probability(n, k, p):\n",
    "    return n_choose_k(n, k) * (p ** k) * ((1 - p) ** (n - k))\n",
    "\n",
    "# Parameter distribusi binomial\n",
    "n = 10  # jumlah percobaan\n",
    "p = 0.5  # probabilitas keberhasilan dalam satu percobaan\n",
    "k = 3  # jumlah keberhasilan yang diinginkan\n",
    "\n",
    "# Menghitung probabilitas P(X=k) untuk distribusi binomial\n",
    "prob_binomial = binomial_probability(n, k, p)\n",
    "print(\"Probabilitas P(X=k) untuk distribusi binomial:\", prob_binomial)"
   ]
  },
  {
   "cell_type": "code",
   "execution_count": 25,
   "id": "d262812f",
   "metadata": {},
   "outputs": [
    {
     "name": "stdout",
     "output_type": "stream",
     "text": [
      "probabilitas P(X=k) untuk distribusi binomial:  0.1171875\n"
     ]
    }
   ],
   "source": [
    "from scipy.stats import binom\n",
    "\n",
    "n = 10\n",
    "p = 0.5\n",
    "k = 3\n",
    "\n",
    "prob_binomial = binom.pmf(k, n, p)\n",
    "print(\"probabilitas P(X=k) untuk distribusi binomial: \", prob_binomial)"
   ]
  },
  {
   "cell_type": "code",
   "execution_count": 13,
   "id": "abbae03e",
   "metadata": {},
   "outputs": [
    {
     "name": "stdout",
     "output_type": "stream",
     "text": [
      "Probabilitas untuk Poisson:  0.22404180765538775\n"
     ]
    }
   ],
   "source": [
    "from scipy.stats import poisson\n",
    "\n",
    "lambd = 3\n",
    "k = 2\n",
    "\n",
    "prob_poisson = poisson.pmf(k, lambd)\n",
    "print(\"Probabilitas untuk Poisson: \", prob_poisson)"
   ]
  },
  {
   "cell_type": "code",
   "execution_count": 17,
   "id": "705036aa",
   "metadata": {},
   "outputs": [
    {
     "name": "stdout",
     "output_type": "stream",
     "text": [
      "0.266895911974545\n"
     ]
    }
   ],
   "source": [
    "from scipy.stats import binom\n",
    "\n",
    "x = binom(15, 0.1)\n",
    "print(x.pmf(2))\n"
   ]
  },
  {
   "cell_type": "code",
   "execution_count": 18,
   "id": "29e821d9",
   "metadata": {},
   "outputs": [
    {
     "name": "stdout",
     "output_type": "stream",
     "text": [
      "0.002216045197080002\n"
     ]
    }
   ],
   "source": [
    "from scipy.stats import binom\n",
    "\n",
    "x = binom(15, 0.1)\n",
    "print(x.pmf(6)+x.pmf(7))"
   ]
  },
  {
   "cell_type": "code",
   "execution_count": 22,
   "id": "aee9a3f4",
   "metadata": {},
   "outputs": [
    {
     "name": "stdout",
     "output_type": "stream",
     "text": [
      "0.17546736976785063\n"
     ]
    }
   ],
   "source": [
    "from scipy import stats\n",
    "y = stats.poisson(5)\n",
    "print(y.pmf(4))"
   ]
  },
  {
   "cell_type": "code",
   "execution_count": 23,
   "id": "5e095e6d",
   "metadata": {},
   "outputs": [
    {
     "name": "stdout",
     "output_type": "stream",
     "text": [
      "0.17886305056987967\n"
     ]
    }
   ],
   "source": [
    "from scipy import stats\n",
    "\n",
    "x = stats.binom(20,0.7)\n",
    "pmf15 = x.pmf(15)\n",
    "\n",
    "print(pmf15)"
   ]
  },
  {
   "cell_type": "code",
   "execution_count": 24,
   "id": "f74ce254",
   "metadata": {},
   "outputs": [
    {
     "name": "stdout",
     "output_type": "stream",
     "text": [
      "0.18044704431548356\n"
     ]
    }
   ],
   "source": [
    "from scipy import stats\n",
    "y = stats.poisson(2)\n",
    "print(y.pmf(3))"
   ]
  },
  {
   "cell_type": "code",
   "execution_count": null,
   "id": "5570908b",
   "metadata": {},
   "outputs": [],
   "source": []
  },
  {
   "cell_type": "code",
   "execution_count": null,
   "id": "650c3083",
   "metadata": {},
   "outputs": [],
   "source": []
  },
  {
   "cell_type": "code",
   "execution_count": null,
   "id": "84dcafaa",
   "metadata": {},
   "outputs": [],
   "source": []
  },
  {
   "cell_type": "code",
   "execution_count": null,
   "id": "1b15a450",
   "metadata": {},
   "outputs": [],
   "source": []
  },
  {
   "cell_type": "code",
   "execution_count": null,
   "id": "d72af8b4",
   "metadata": {},
   "outputs": [],
   "source": []
  }
 ],
 "metadata": {
  "kernelspec": {
   "display_name": "Python 3 (ipykernel)",
   "language": "python",
   "name": "python3"
  },
  "language_info": {
   "codemirror_mode": {
    "name": "ipython",
    "version": 3
   },
   "file_extension": ".py",
   "mimetype": "text/x-python",
   "name": "python",
   "nbconvert_exporter": "python",
   "pygments_lexer": "ipython3",
   "version": "3.11.4"
  }
 },
 "nbformat": 4,
 "nbformat_minor": 5
}
