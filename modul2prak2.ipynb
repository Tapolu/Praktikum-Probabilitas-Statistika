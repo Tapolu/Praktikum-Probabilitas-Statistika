{
 "cells": [
  {
   "cell_type": "code",
   "execution_count": 1,
   "id": "db2a8c10",
   "metadata": {},
   "outputs": [
    {
     "name": "stdout",
     "output_type": "stream",
     "text": [
      "[1, 2, -5, 0, 3, 6, -2, 4]\n",
      "['one', 'two', 'three']\n",
      "[True, True, True, False, True]\n"
     ]
    }
   ],
   "source": [
    "a = [1,2,-5,0,3,6,-2,4]\n",
    "b = [\"one\", \"two\", \"three\"]\n",
    "c = [True, True, True, False, True]\n",
    "print(a)\n",
    "print(b)\n",
    "print(c)"
   ]
  },
  {
   "cell_type": "code",
   "execution_count": 2,
   "id": "573f8f71",
   "metadata": {},
   "outputs": [
    {
     "name": "stdout",
     "output_type": "stream",
     "text": [
      "Requirement already satisfied: numpy in c:\\users\\adkur\\anaconda3\\lib\\site-packages (1.24.3)Note: you may need to restart the kernel to use updated packages.\n",
      "\n"
     ]
    }
   ],
   "source": [
    "pip install numpy"
   ]
  },
  {
   "cell_type": "code",
   "execution_count": 3,
   "id": "5d3e4a9e",
   "metadata": {},
   "outputs": [
    {
     "name": "stdout",
     "output_type": "stream",
     "text": [
      "[[  3  15]\n",
      " [-27  38]]\n"
     ]
    }
   ],
   "source": [
    "import numpy as np\n",
    "cells = [3,15,-27,38]\n",
    "r_nama = [\"R1\", \"R2\"]\n",
    "c_nama = [\"C1\", \"C2\"]\n",
    "nama_matrix = np.matrix(cells).reshape(2,2)\n",
    "print(nama_matrix)"
   ]
  },
  {
   "cell_type": "code",
   "execution_count": 4,
   "id": "4aedc21e",
   "metadata": {},
   "outputs": [
    {
     "name": "stdout",
     "output_type": "stream",
     "text": [
      "   ID  Color  Passed\n",
      "0   1    red    True\n",
      "1   2  white    True\n",
      "2   3    red    True\n",
      "3   4    NaN   False\n"
     ]
    }
   ],
   "source": [
    "import pandas as pd\n",
    "import numpy as np\n",
    "nama1 = [1,2,3,4]\n",
    "nama2 = [\"red\", \"white\", \"red\",np.nan]\n",
    "nama3 = [True, True, True, False]\n",
    "dataku = pd.DataFrame({'ID':nama1, 'Color':nama2, 'Passed':nama3})\n",
    "print(dataku)"
   ]
  },
  {
   "cell_type": "code",
   "execution_count": 5,
   "id": "9574a7a1",
   "metadata": {},
   "outputs": [
    {
     "name": "stdout",
     "output_type": "stream",
     "text": [
      "  ID   x   y\n",
      "0  a   1  11\n",
      "1  b   2  12\n",
      "2  c   3  13\n",
      "3  d   4  14\n",
      "4  e   5  15\n",
      "5  f   6  16\n",
      "6  g   7  17\n",
      "7  h   8  18\n",
      "8  i   9  19\n",
      "9  j  10  20\n"
     ]
    }
   ],
   "source": [
    "import pandas as pd\n",
    "data_nama = pd.DataFrame({'ID':list('abcdefghij'), 'x':list(range(1,11)), 'y':list(range(11,21))}) \n",
    "print(data_nama)"
   ]
  },
  {
   "cell_type": "code",
   "execution_count": 6,
   "id": "fb56ba34",
   "metadata": {},
   "outputs": [
    {
     "name": "stdout",
     "output_type": "stream",
     "text": [
      "Requirement already satisfied: mysql-connector-python in c:\\users\\adkur\\anaconda3\\lib\\site-packages (8.3.0)\n",
      "Note: you may need to restart the kernel to use updated packages.\n"
     ]
    }
   ],
   "source": [
    "pip install mysql-connector-python"
   ]
  },
  {
   "cell_type": "code",
   "execution_count": 7,
   "id": "313f610e",
   "metadata": {},
   "outputs": [
    {
     "name": "stdout",
     "output_type": "stream",
     "text": [
      "\n",
      "Hasil Kueri:\n",
      "('Price', 'SqFt', 'Bedrooms', 'Bathrooms', 'Offers', 'Brick', 'Neighborhood')\n",
      "('114300', '1790', '2', '2', '2', 'No', 'East')\n",
      "('114200', '2030', '4', '2', '3', 'No', 'East')\n",
      "('114800', '1740', '3', '2', '1', 'No', 'East')\n",
      "('94700', '1980', '3', '2', '3', 'No', 'East')\n",
      "('119800', '2130', '3', '3', '3', 'No', 'East')\n",
      "('114600', '1780', '3', '2', '2', 'No', 'North')\n",
      "('151600', '1830', '3', '3', '3', 'Yes', 'West')\n",
      "('150700', '2160', '4', '2', '2', 'No', 'West')\n",
      "('119200', '2110', '4', '2', '3', 'No', 'East')\n",
      "('104000', '1730', '3', '3', '3', 'No', 'East')\n",
      "('132500', '2030', '3', '2', '3', 'Yes', 'East')\n",
      "('123000', '1870', '2', '2', '2', 'Yes', 'East')\n",
      "('102600', '1910', '3', '2', '4', 'No', 'North')\n",
      "('126300', '2150', '3', '3', '5', 'Yes', 'North')\n",
      "('176800', '2590', '4', '3', '4', 'No', 'West')\n",
      "('145800', '1780', '4', '2', '1', 'No', 'West')\n",
      "('147100', '2190', '3', '3', '4', 'Yes', 'East')\n",
      "('83600', '1990', '3', '3', '4', 'No', 'North')\n",
      "('111400', '1700', '2', '2', '1', 'Yes', 'East')\n",
      "('167200', '1920', '3', '3', '2', 'Yes', 'West')\n",
      "('116200', '1790', '3', '2', '3', 'No', 'East')\n",
      "('113800', '2000', '3', '2', '4', 'No', 'North')\n",
      "('91700', '1690', '3', '2', '3', 'No', 'North')\n",
      "('106100', '1820', '3', '2', '3', 'Yes', 'North')\n",
      "('156400', '2210', '4', '3', '2', 'Yes', 'East')\n",
      "('149300', '2290', '4', '3', '3', 'No', 'North')\n",
      "('137000', '2000', '4', '2', '3', 'No', 'West')\n",
      "('99300', '1700', '3', '2', '2', 'No', 'East')\n",
      "('69100', '1600', '2', '2', '3', 'No', 'North')\n",
      "('188000', '2040', '4', '3', '1', 'Yes', 'West')\n",
      "('182000', '2250', '4', '3', '3', 'Yes', 'West')\n",
      "('112300', '1930', '2', '2', '2', 'Yes', 'North')\n",
      "('135000', '2250', '3', '3', '3', 'Yes', 'East')\n",
      "('139600', '2280', '5', '3', '4', 'Yes', 'East')\n",
      "('117800', '2000', '2', '2', '3', 'No', 'North')\n",
      "('117100', '2080', '3', '3', '3', 'No', 'North')\n",
      "('117500', '1880', '2', '2', '2', 'No', 'North')\n",
      "('147000', '2420', '4', '3', '4', 'No', 'West')\n",
      "('131300', '1720', '3', '2', '1', 'No', 'West')\n",
      "('108200', '1740', '3', '2', '2', 'No', 'North')\n",
      "('106600', '1560', '2', '2', '1', 'No', 'East')\n",
      "('133600', '1840', '4', '3', '2', 'No', 'West')\n",
      "('105600', '1990', '2', '2', '3', 'No', 'East')\n",
      "('154000', '1920', '3', '2', '1', 'Yes', 'East')\n",
      "('166500', '1940', '3', '3', '2', 'Yes', 'West')\n",
      "('103200', '1810', '3', '2', '3', 'No', 'East')\n",
      "('129800', '1990', '2', '3', '2', 'No', 'North')\n",
      "('90300', '2050', '3', '2', '6', 'No', 'North')\n",
      "('115900', '1980', '2', '2', '2', 'No', 'East')\n",
      "('107500', '1700', '3', '2', '3', 'Yes', 'North')\n",
      "('151100', '2100', '3', '2', '3', 'Yes', 'East')\n",
      "('91100', '1860', '2', '2', '3', 'No', 'North')\n",
      "('117400', '2150', '2', '3', '4', 'No', 'North')\n",
      "('130800', '2100', '3', '2', '3', 'No', 'North')\n",
      "('81300', '1650', '3', '2', '3', 'No', 'North')\n",
      "('125700', '1720', '2', '2', '2', 'Yes', 'East')\n",
      "('140900', '2190', '3', '2', '3', 'Yes', 'East')\n",
      "('152300', '2240', '4', '3', '3', 'No', 'West')\n",
      "('138100', '1840', '3', '3', '1', 'No', 'West')\n",
      "('155400', '2090', '4', '2', '1', 'No', 'West')\n",
      "('180900', '2200', '3', '3', '1', 'No', 'West')\n",
      "('100900', '1610', '2', '2', '2', 'No', 'North')\n",
      "('161300', '2220', '4', '3', '2', 'No', 'West')\n",
      "('120500', '1910', '2', '3', '2', 'No', 'East')\n",
      "('130300', '1860', '3', '2', '2', 'No', 'West')\n",
      "('111100', '1450', '2', '2', '1', 'Yes', 'North')\n",
      "('126200', '2210', '3', '3', '4', 'No', 'North')\n",
      "('151900', '2040', '4', '3', '3', 'No', 'East')\n",
      "('93600', '2140', '3', '2', '4', 'No', 'North')\n",
      "('165600', '2080', '4', '3', '3', 'No', 'West')\n",
      "('166700', '1950', '3', '3', '3', 'Yes', 'West')\n",
      "('157600', '2160', '4', '2', '1', 'No', 'West')\n",
      "('107300', '1650', '3', '2', '3', 'No', 'North')\n",
      "('125700', '2040', '3', '3', '2', 'No', 'East')\n",
      "('144200', '2140', '3', '3', '3', 'No', 'West')\n",
      "('106900', '1900', '2', '2', '2', 'No', 'North')\n",
      "('129800', '1930', '3', '2', '2', 'No', 'West')\n",
      "('176500', '2280', '4', '3', '3', 'Yes', 'West')\n",
      "('121300', '2130', '3', '2', '3', 'No', 'North')\n",
      "('143600', '1780', '4', '2', '1', 'No', 'West')\n",
      "('143400', '2190', '3', '3', '4', 'Yes', 'East')\n",
      "('184300', '2140', '4', '3', '2', 'Yes', 'West')\n",
      "('164800', '2050', '2', '2', '1', 'Yes', 'West')\n",
      "('147700', '2410', '3', '3', '2', 'No', 'East')\n",
      "('90500', '1520', '2', '2', '3', 'No', 'North')\n",
      "('188300', '2250', '4', '3', '2', 'Yes', 'West')\n",
      "('102700', '1900', '4', '2', '4', 'No', 'North')\n",
      "('172500', '1880', '3', '3', '1', 'Yes', 'West')\n",
      "('127700', '1930', '3', '3', '2', 'No', 'North')\n",
      "('97800', '2010', '2', '2', '4', 'No', 'North')\n",
      "('143100', '1920', '4', '2', '2', 'No', 'West')\n",
      "('116500', '2150', '3', '2', '2', 'No', 'East')\n",
      "('142600', '2110', '3', '2', '2', 'No', 'West')\n",
      "('157100', '2080', '3', '3', '2', 'No', 'East')\n",
      "('160600', '2150', '4', '3', '3', 'Yes', 'West')\n",
      "('152500', '1970', '2', '2', '1', 'Yes', 'West')\n",
      "('133300', '2440', '3', '3', '3', 'No', 'East')\n",
      "('126800', '2000', '2', '2', '1', 'Yes', 'East')\n",
      "('145500', '2060', '3', '2', '1', 'No', 'West')\n",
      "('171000', '2080', '3', '3', '2', 'Yes', 'West')\n",
      "('103200', '2010', '3', '2', '5', 'No', 'North')\n",
      "('123100', '2260', '3', '3', '5', 'No', 'East')\n",
      "('136800', '2410', '3', '3', '4', 'No', 'East')\n",
      "('211200', '2440', '4', '3', '3', 'Yes', 'West')\n",
      "('82300', '1910', '3', '2', '4', 'No', 'East')\n",
      "('146900', '2530', '4', '3', '4', 'No', 'West')\n",
      "('108500', '2130', '3', '2', '4', 'No', 'North')\n",
      "('134000', '1890', '3', '2', '1', 'Yes', 'East')\n",
      "('117000', '1990', '3', '3', '3', 'Yes', 'East')\n",
      "('108700', '2110', '3', '2', '3', 'No', 'East')\n",
      "('111600', '1710', '2', '2', '1', 'No', 'North')\n",
      "('114900', '1740', '2', '2', '2', 'No', 'North')\n",
      "('123600', '1940', '2', '2', '2', 'Yes', 'East')\n",
      "('115700', '2000', '3', '2', '3', 'Yes', 'North')\n",
      "('124500', '2010', '4', '3', '2', 'No', 'East')\n",
      "('102500', '1900', '3', '3', '3', 'No', 'North')\n",
      "('199500', '2290', '5', '4', '1', 'Yes', 'West')\n",
      "('117800', '1920', '3', '2', '2', 'No', 'North')\n",
      "('150200', '1950', '3', '2', '3', 'Yes', 'North')\n",
      "('109700', '1920', '2', '2', '4', 'No', 'North')\n",
      "('110400', '1930', '2', '3', '3', 'No', 'North')\n",
      "('105600', '1930', '3', '3', '3', 'No', 'East')\n",
      "('144800', '2060', '2', '2', '1', 'Yes', 'East')\n",
      "('119700', '1900', '3', '3', '3', 'Yes', 'East')\n",
      "('147900', '2160', '4', '3', '3', 'Yes', 'East')\n",
      "('113500', '2070', '2', '2', '2', 'No', 'North')\n",
      "('149900', '2020', '3', '3', '1', 'No', 'West')\n",
      "('124600', '2250', '3', '3', '4', 'No', 'North')\n"
     ]
    }
   ],
   "source": [
    "import mysql.connector\n",
    "\n",
    "# Membuat koneksi ke MySQL\n",
    "connection = mysql.connector.connect(\n",
    "    host=\"localhost\",\n",
    "    user=\"root\",\n",
    "    password=\"\",\n",
    "    database=\"houseprices1\"\n",
    ")\n",
    "\n",
    "# Membuat objek cursor untuk mengeksekusi kueri\n",
    "cursor = connection.cursor()\n",
    "\n",
    "try:\n",
    "    # Mengeksekusi kueri SQL\n",
    "    my_query = \"SELECT * FROM vira_houseprices;\"\n",
    "    cursor.execute(my_query)\n",
    "    \n",
    "    # Mengambil semua hasil kueri\n",
    "    result = cursor.fetchall()\n",
    "    \n",
    "    # Menampilkan hasil kueri\n",
    "    print(\"\\nHasil Kueri:\")\n",
    "    for row in result:\n",
    "        print(row)\n",
    "\n",
    "finally:\n",
    "    # Menutup kursor dan koneksi\n",
    "    cursor.close()\n",
    "    connection.close()\n"
   ]
  },
  {
   "cell_type": "code",
   "execution_count": 10,
   "id": "6d6a72d5",
   "metadata": {},
   "outputs": [
    {
     "name": "stdout",
     "output_type": "stream",
     "text": [
      "\n",
      "Hasil Filter:\n",
      "      COL 1 COL 2 COL 3 COL 4 COL 5 COL 6  COL 7\n",
      "1    114300  1790     2     2     2    No   East\n",
      "2    114200  2030     4     2     3    No   East\n",
      "3    114800  1740     3     2     1    No   East\n",
      "4     94700  1980     3     2     3    No   East\n",
      "5    119800  2130     3     3     3    No   East\n",
      "..      ...   ...   ...   ...   ...   ...    ...\n",
      "121  110400  1930     2     3     3    No  North\n",
      "122  105600  1930     3     3     3    No   East\n",
      "126  113500  2070     2     2     2    No  North\n",
      "127  149900  2020     3     3     1    No   West\n",
      "128  124600  2250     3     3     4    No  North\n",
      "\n",
      "[86 rows x 7 columns]\n"
     ]
    }
   ],
   "source": [
    "import pandas as pd\n",
    "# Mengonversi hasil kueri ke DataFrame Pandas\n",
    "df = pd.DataFrame(result, columns=[desc[0] for desc in cursor.description])\n",
    "\n",
    "# Filter data berdasarkan kolom 'Brick' yang bernilai 'No'\n",
    "df_filtered = df[(df['COL 6'] == 'No')]\n",
    "\n",
    "# Menampilkan hasil filter\n",
    "print(\"\\nHasil Filter:\")\n",
    "print(df_filtered)"
   ]
  },
  {
   "cell_type": "code",
   "execution_count": 18,
   "id": "cde1bee0",
   "metadata": {},
   "outputs": [
    {
     "name": "stdout",
     "output_type": "stream",
     "text": [
      "\n",
      "Hasil Filter:\n",
      "      COL 1 COL 2 COL 3 COL 4 COL 5 COL 6  COL 7\n",
      "1    114300  1790     2     2     2    No   East\n",
      "2    114200  2030     4     2     3    No   East\n",
      "3    114800  1740     3     2     1    No   East\n",
      "4     94700  1980     3     2     3    No   East\n",
      "5    119800  2130     3     3     3    No   East\n",
      "..      ...   ...   ...   ...   ...   ...    ...\n",
      "124  119700  1900     3     3     3   Yes   East\n",
      "125  147900  2160     4     3     3   Yes   East\n",
      "126  113500  2070     2     2     2    No  North\n",
      "127  149900  2020     3     3     1    No   West\n",
      "128  124600  2250     3     3     4    No  North\n",
      "\n",
      "[105 rows x 7 columns]\n"
     ]
    }
   ],
   "source": [
    "import pandas as pd\n",
    "# Mengonversi hasil kueri ke DataFrame Pandas\n",
    "df = pd.DataFrame(result, columns=[desc[0] for desc in cursor.description])\n",
    "\n",
    "# Filter data berdasarkan kolom 'Brick' yang bernilai 'No'\n",
    "df_filtered = df[(df['COL 6'] == 'No') | (df['COL 7'] == 'East')]\n",
    "\n",
    "# Menampilkan hasil filter\n",
    "print(\"\\nHasil Filter:\")\n",
    "print(df_filtered)"
   ]
  },
  {
   "cell_type": "code",
   "execution_count": 19,
   "id": "df5b96ad",
   "metadata": {},
   "outputs": [
    {
     "name": "stdout",
     "output_type": "stream",
     "text": [
      "\n",
      "Hasil Kueri:\n",
      "('Dony', 'L', 2023, 100)\n",
      "('Bambang', 'L', 2023, 101)\n",
      "('Rehan', 'L', 2023, 102)\n",
      "('Rayyan', 'L', 2023, 103)\n",
      "('Dewanto', 'L', 2023, 104)\n",
      "('Felix', 'L', 2023, 105)\n",
      "('Adit', 'L', 2023, 106)\n",
      "('Kurniawan', 'L', 2023, 107)\n",
      "('Bayu', 'L', 2023, 108)\n",
      "('Udin', 'L', 2023, 109)\n",
      "('Ahmad', 'L', 2023, 110)\n",
      "('Badrun', 'L', 2023, 111)\n",
      "('Puki', 'L', 2023, 112)\n",
      "('Nen', 'L', 2023, 113)\n",
      "('Supri', 'L', 2023, 114)\n",
      "('Adrian', 'L', 2023, 115)\n",
      "('Sapri', 'L', 2023, 116)\n",
      "('Lulu', 'L', 2023, 117)\n",
      "('Cucok', 'L', 2023, 118)\n",
      "('Lola', 'L', 2023, 119)\n",
      "('Bujang', 'L', 2023, 120)\n",
      "('Bajai', 'L', 2023, 121)\n",
      "('Dul', 'L', 2023, 122)\n",
      "('Budi', 'L', 2023, 123)\n",
      "('Badrul', 'L', 2023, 124)\n",
      "('Pupey', 'L', 2023, 125)\n",
      "('Salim', 'L', 2023, 126)\n",
      "('Salam', 'L', 2023, 127)\n",
      "('Sudirman', 'L', 2023, 128)\n",
      "('Salur', 'L', 2023, 129)\n"
     ]
    }
   ],
   "source": [
    "import mysql.connector\n",
    "\n",
    "# Membuat koneksi ke MySQL\n",
    "connection = mysql.connector.connect(\n",
    "    host=\"localhost\",\n",
    "    user=\"root\",\n",
    "    password=\"\",\n",
    "    database=\"ps2[viraaditya]\"\n",
    ")\n",
    "\n",
    "# Membuat objek cursor untuk mengeksekusi kueri\n",
    "cursor = connection.cursor()\n",
    "\n",
    "try:\n",
    "    # Mengeksekusi kueri SQL\n",
    "    my_query = \"SELECT * FROM prakstatistika1;\"\n",
    "    cursor.execute(my_query)\n",
    "    \n",
    "    # Mengambil semua hasil kueri\n",
    "    result = cursor.fetchall()\n",
    "    \n",
    "    # Menampilkan hasil kueri\n",
    "    print(\"\\nHasil Kueri:\")\n",
    "    for row in result:\n",
    "        print(row)\n",
    "\n",
    "finally:\n",
    "    # Menutup kursor dan koneksi\n",
    "    cursor.close()\n",
    "    connection.close()\n"
   ]
  },
  {
   "cell_type": "code",
   "execution_count": 21,
   "id": "6b0dd28f",
   "metadata": {},
   "outputs": [
    {
     "name": "stdout",
     "output_type": "stream",
     "text": [
      "\n",
      "Hasil Filter:\n",
      "         Nama Gender  Angkatan  Tinggi\n",
      "0        Dony      L      2023     100\n",
      "1     Bambang      L      2023     101\n",
      "2       Rehan      L      2023     102\n",
      "3      Rayyan      L      2023     103\n",
      "4     Dewanto      L      2023     104\n",
      "5       Felix      L      2023     105\n",
      "6        Adit      L      2023     106\n",
      "7   Kurniawan      L      2023     107\n",
      "8        Bayu      L      2023     108\n",
      "9        Udin      L      2023     109\n",
      "10      Ahmad      L      2023     110\n",
      "11     Badrun      L      2023     111\n",
      "12       Puki      L      2023     112\n",
      "13        Nen      L      2023     113\n",
      "14      Supri      L      2023     114\n",
      "15     Adrian      L      2023     115\n",
      "16      Sapri      L      2023     116\n",
      "17       Lulu      L      2023     117\n",
      "18      Cucok      L      2023     118\n",
      "19       Lola      L      2023     119\n",
      "20     Bujang      L      2023     120\n",
      "21      Bajai      L      2023     121\n",
      "22        Dul      L      2023     122\n",
      "23       Budi      L      2023     123\n",
      "24     Badrul      L      2023     124\n",
      "25      Pupey      L      2023     125\n",
      "26      Salim      L      2023     126\n",
      "27      Salam      L      2023     127\n",
      "28   Sudirman      L      2023     128\n",
      "29      Salur      L      2023     129\n"
     ]
    }
   ],
   "source": [
    "import pandas as pd\n",
    "# Mengonversi hasil kueri ke DataFrame Pandas\n",
    "df = pd.DataFrame(result, columns=[desc[0] for desc in cursor.description])\n",
    "\n",
    "# Filter data berdasarkan kolom 'Brick' yang bernilai 'No'\n",
    "df_filtered = df[(df['Gender'] == 'L')]\n",
    "\n",
    "# Menampilkan hasil filter\n",
    "print(\"\\nHasil Filter:\")\n",
    "print(df_filtered)"
   ]
  },
  {
   "cell_type": "code",
   "execution_count": null,
   "id": "771308ad",
   "metadata": {},
   "outputs": [],
   "source": []
  }
 ],
 "metadata": {
  "kernelspec": {
   "display_name": "Python 3 (ipykernel)",
   "language": "python",
   "name": "python3"
  },
  "language_info": {
   "codemirror_mode": {
    "name": "ipython",
    "version": 3
   },
   "file_extension": ".py",
   "mimetype": "text/x-python",
   "name": "python",
   "nbconvert_exporter": "python",
   "pygments_lexer": "ipython3",
   "version": "3.11.4"
  }
 },
 "nbformat": 4,
 "nbformat_minor": 5
}
