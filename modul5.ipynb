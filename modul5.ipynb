{
 "cells": [
  {
   "cell_type": "code",
   "execution_count": 1,
   "id": "a498e41b",
   "metadata": {},
   "outputs": [
    {
     "name": "stdout",
     "output_type": "stream",
     "text": [
      "Probabilitasnya =  0.8413447460685429\n"
     ]
    }
   ],
   "source": [
    "from scipy.stats import norm\n",
    "mean = 184\n",
    "std_dev = 5\n",
    "height = 189\n",
    "prob_less_than_189 = norm.cdf(height,mean,std_dev)\n",
    "print(\"Probabilitasnya = \", prob_less_than_189)"
   ]
  },
  {
   "cell_type": "code",
   "execution_count": 3,
   "id": "e8c5d276",
   "metadata": {},
   "outputs": [
    {
     "name": "stdout",
     "output_type": "stream",
     "text": [
      "Probabilitasnya =  0.9758999700201907\n"
     ]
    }
   ],
   "source": [
    "from scipy.stats import norm\n",
    "mean = 184\n",
    "std_dev = 5\n",
    "height = 189\n",
    "prob_less_than_174 = norm.cdf(174,mean,std_dev)\n",
    "prob__less_than_199 = norm.cdf(199, mean,std_dev)\n",
    "prob_between_174_and_199 = prob__less_than_199 - prob_less_than_174\n",
    "print(\"Probabilitasnya = \", prob_between_174_and_199)"
   ]
  },
  {
   "cell_type": "code",
   "execution_count": 4,
   "id": "d7ed750d",
   "metadata": {},
   "outputs": [
    {
     "name": "stdout",
     "output_type": "stream",
     "text": [
      "Probabilitasnya =  0.05951907678399515\n"
     ]
    }
   ],
   "source": [
    "from scipy.stats import norm\n",
    "mean = 173\n",
    "std_dev =34\n",
    "not_good = norm.cdf(120,173,34)\n",
    "prob_not_good = norm.cdf(120,mean,std_dev)\n",
    "print(\"Probabilitasnya = \", prob_not_good)"
   ]
  },
  {
   "cell_type": "code",
   "execution_count": 6,
   "id": "9f4d7c41",
   "metadata": {},
   "outputs": [
    {
     "name": "stdout",
     "output_type": "stream",
     "text": [
      "Rata-rata jumlah pelanggan dalam sistem (L): 4.00\n",
      "Rata-rata waktu setiap pelanggan berada dalam sistem (W): 40.00\n"
     ]
    }
   ],
   "source": [
    "arrival_rate = 1/10\n",
    "service_rate = 1/8 \n",
    "\n",
    "L = arrival_rate / (service_rate - arrival_rate)\n",
    "W = L / arrival_rate\n",
    "\n",
    "print (\"Rata-rata jumlah pelanggan dalam sistem (L): {:.2f}\".format(L))\n",
    "print(\"Rata-rata waktu setiap pelanggan berada dalam sistem (W): {:.2f}\".format(W))\n"
   ]
  },
  {
   "cell_type": "code",
   "execution_count": 7,
   "id": "9cbfa767",
   "metadata": {},
   "outputs": [
    {
     "name": "stdout",
     "output_type": "stream",
     "text": [
      "Probabilitasnya = 0.1618974\n"
     ]
    }
   ],
   "source": [
    "from scipy.stats import expon\n",
    "mean = 7\n",
    "prob_between_3_and_5 = expon.cdf(5, scale=mean) - expon.cdf(3,scale=mean)\n",
    "print(\"Probabilitasnya = {:.7f}\".format(prob_between_3_and_5))"
   ]
  },
  {
   "cell_type": "code",
   "execution_count": 8,
   "id": "75027bc0",
   "metadata": {},
   "outputs": [
    {
     "name": "stdout",
     "output_type": "stream",
     "text": [
      "Probabilitasnya =  0.869858579117517\n"
     ]
    }
   ],
   "source": [
    "from scipy.stats import poisson\n",
    "mean = 5\n",
    "prob_more_than_5 = 1 - poisson.cdf(6,mean*2)\n",
    "print(\"Probabilitasnya = \", prob_more_than_5)"
   ]
  },
  {
   "cell_type": "code",
   "execution_count": 10,
   "id": "b314c583",
   "metadata": {},
   "outputs": [
    {
     "name": "stdout",
     "output_type": "stream",
     "text": [
      "Probabilitasnya =  188.8005485702695\n"
     ]
    }
   ],
   "source": [
    "#TUGAS\n",
    "\n",
    "from scipy.stats import norm\n",
    "mean = 184\n",
    "std_dev = 5\n",
    "height = 189\n",
    "prob_more_than = 1-0.1685\n",
    "height = norm.ppf(prob_more_than,mean,std_dev)\n",
    "print(\"Probabilitasnya = \", height)"
   ]
  },
  {
   "cell_type": "code",
   "execution_count": 12,
   "id": "50e40ddc",
   "metadata": {},
   "outputs": [
    {
     "name": "stdout",
     "output_type": "stream",
     "text": [
      "Probabilitasnya =  0.9903770576839936\n"
     ]
    }
   ],
   "source": [
    "from scipy.stats import binom\n",
    "n = 8\n",
    "p = 0.06\n",
    "prob_not_good_2_less = binom.cdf(2,n,p)\n",
    "print(\"Probabilitasnya = \", prob_not_good_2_less)"
   ]
  },
  {
   "cell_type": "code",
   "execution_count": 13,
   "id": "c61a00f6",
   "metadata": {},
   "outputs": [
    {
     "name": "stdout",
     "output_type": "stream",
     "text": [
      "Rata-rata jumlah pelanggan dalam sistem (L): 1.00\n",
      "Rata-rata waktu setiap pelanggan berada dalam sistem (W): 16.00\n"
     ]
    }
   ],
   "source": [
    "arrival_rate = 1/16\n",
    "service_rate = 1/8 \n",
    "\n",
    "L = arrival_rate / (service_rate - arrival_rate)\n",
    "W = L / arrival_rate\n",
    "\n",
    "print (\"Rata-rata jumlah pelanggan dalam sistem (L): {:.2f}\".format(L))\n",
    "print(\"Rata-rata waktu setiap pelanggan berada dalam sistem (W): {:.2f}\".format(W))\n"
   ]
  },
  {
   "cell_type": "code",
   "execution_count": 16,
   "id": "bca34645",
   "metadata": {},
   "outputs": [
    {
     "name": "stdout",
     "output_type": "stream",
     "text": [
      "Probabilitasnya = 0.3189066\n"
     ]
    }
   ],
   "source": [
    "from scipy.stats import expon\n",
    "mean = 7\n",
    "prob_more_than_8 = 1 - expon.cdf(8, scale=mean)\n",
    "print(\"Probabilitasnya = {:.7f}\".format(prob_more_than_8))"
   ]
  },
  {
   "cell_type": "code",
   "execution_count": 19,
   "id": "43614106",
   "metadata": {},
   "outputs": [
    {
     "name": "stdout",
     "output_type": "stream",
     "text": [
      "Probabilitasnya =  300\n"
     ]
    }
   ],
   "source": [
    "from scipy.stats import poisson\n",
    "mean = 5\n",
    "mean_per_hour = mean*60\n",
    "print(\"Probabilitasnya = \", mean_per_hour)"
   ]
  },
  {
   "cell_type": "code",
   "execution_count": null,
   "id": "00525b84",
   "metadata": {},
   "outputs": [],
   "source": []
  },
  {
   "cell_type": "code",
   "execution_count": null,
   "id": "2ecfdd04",
   "metadata": {},
   "outputs": [],
   "source": []
  }
 ],
 "metadata": {
  "kernelspec": {
   "display_name": "Python 3 (ipykernel)",
   "language": "python",
   "name": "python3"
  },
  "language_info": {
   "codemirror_mode": {
    "name": "ipython",
    "version": 3
   },
   "file_extension": ".py",
   "mimetype": "text/x-python",
   "name": "python",
   "nbconvert_exporter": "python",
   "pygments_lexer": "ipython3",
   "version": "3.11.4"
  }
 },
 "nbformat": 4,
 "nbformat_minor": 5
}
