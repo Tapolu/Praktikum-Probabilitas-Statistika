{
 "cells": [
  {
   "cell_type": "code",
   "execution_count": 1,
   "id": "efdf80a8",
   "metadata": {},
   "outputs": [
    {
     "name": "stdout",
     "output_type": "stream",
     "text": [
      "         Nama Gender  Angkatan  Tinggi\n",
      "0        Dony      L      2023     100\n",
      "1     Bambang      L      2023     101\n",
      "2       Rehan      L      2023     102\n",
      "3      Rayyan      L      2023     103\n",
      "4     Dewanto      L      2023     104\n",
      "5       Felix      L      2023     105\n",
      "6        Adit      L      2023     106\n",
      "7   Kurniawan      L      2023     107\n",
      "8        Bayu      L      2023     108\n",
      "9        Udin      L      2023     109\n",
      "10      Ahmad      L      2023     110\n",
      "11     Badrun      L      2023     111\n",
      "12       Puki      L      2023     112\n",
      "13        Nen      L      2023     113\n",
      "14      Supri      L      2023     114\n",
      "15     Adrian      L      2023     115\n",
      "16      Sapri      L      2023     116\n",
      "17       Lulu      L      2023     117\n",
      "18      Cucok      L      2023     118\n",
      "19       Lola      L      2023     119\n",
      "20     Bujang      L      2023     120\n",
      "21      Bajai      L      2023     121\n",
      "22        Dul      L      2023     122\n",
      "23       Budi      L      2023     123\n",
      "24     Badrul      L      2023     124\n",
      "25      Pupey      L      2023     125\n",
      "26      Salim      L      2023     126\n",
      "27      Salam      L      2023     127\n",
      "28   Sudirman      L      2023     128\n",
      "29      Salur      L      2023     129\n",
      "30       Rina      P      2023     130\n",
      "31       Rini      P      2023     131\n",
      "32       Rino      P      2023     132\n",
      "33       Dina      P      2023     133\n",
      "34       Dini      P      2023     134\n",
      "35    Mutiara      P      2023     135\n",
      "36     Monica      P      2023     136\n",
      "37      Naswa      P      2023     137\n",
      "38       Rifa      P      2023     138\n",
      "39       Rida      P      2023     139\n"
     ]
    }
   ],
   "source": [
    "import pandas as pd\n",
    "\n",
    "data_vira = pd.read_clipboard()\n",
    "\n",
    "# Menampilkan data\n",
    "print(data_vira)\n"
   ]
  },
  {
   "cell_type": "code",
   "execution_count": 5,
   "id": "d0aec9e1",
   "metadata": {},
   "outputs": [
    {
     "name": "stdout",
     "output_type": "stream",
     "text": [
      "       Nama Gender  Angkatan  Tinggi\n",
      "30     Rina      P      2023     130\n",
      "31     Rini      P      2023     131\n",
      "32     Rino      P      2023     132\n",
      "33     Dina      P      2023     133\n",
      "34     Dini      P      2023     134\n",
      "35  Mutiara      P      2023     135\n",
      "36   Monica      P      2023     136\n",
      "37    Naswa      P      2023     137\n",
      "38     Rifa      P      2023     138\n",
      "39     Rida      P      2023     139\n"
     ]
    }
   ],
   "source": [
    "vira = data_vira[data_vira['Tinggi'] >= 130]\n",
    "\n",
    "# Menampilkan nama\n",
    "print(vira)\n"
   ]
  },
  {
   "cell_type": "code",
   "execution_count": 6,
   "id": "9ae49c2b",
   "metadata": {},
   "outputs": [
    {
     "name": "stdout",
     "output_type": "stream",
     "text": [
      "       Nama Gender  Angkatan Tinggi\n",
      "30     Rina      P      2023  small\n",
      "31     Rini      P      2023  large\n",
      "32     Rino      P      2023  large\n",
      "33     Dina      P      2023  large\n",
      "34     Dini      P      2023  large\n",
      "35  Mutiara      P      2023  large\n",
      "36   Monica      P      2023  large\n",
      "37    Naswa      P      2023  large\n",
      "38     Rifa      P      2023  large\n",
      "39     Rida      P      2023  large\n"
     ]
    },
    {
     "name": "stderr",
     "output_type": "stream",
     "text": [
      "C:\\Users\\Adkur\\AppData\\Local\\Temp\\ipykernel_17980\\3373389387.py:4: SettingWithCopyWarning: \n",
      "A value is trying to be set on a copy of a slice from a DataFrame.\n",
      "Try using .loc[row_indexer,col_indexer] = value instead\n",
      "\n",
      "See the caveats in the documentation: https://pandas.pydata.org/pandas-docs/stable/user_guide/indexing.html#returning-a-view-versus-a-copy\n",
      "  vira['Tinggi'] = pd.to_numeric(vira['Tinggi'])\n",
      "C:\\Users\\Adkur\\AppData\\Local\\Temp\\ipykernel_17980\\3373389387.py:7: SettingWithCopyWarning: \n",
      "A value is trying to be set on a copy of a slice from a DataFrame.\n",
      "Try using .loc[row_indexer,col_indexer] = value instead\n",
      "\n",
      "See the caveats in the documentation: https://pandas.pydata.org/pandas-docs/stable/user_guide/indexing.html#returning-a-view-versus-a-copy\n",
      "  vira['Tinggi'] = vira['Tinggi'].apply(lambda x: 'large' if x > 130 else 'small')\n"
     ]
    }
   ],
   "source": [
    "import numpy as np\n",
    "\n",
    "vira['Tinggi'] = pd.to_numeric(vira['Tinggi'])\n",
    "\n",
    "vira['Tinggi'] = vira['Tinggi'].apply(lambda x: 'large' if x > 130 else 'small')\n",
    "\n",
    "print(vira)"
   ]
  },
  {
   "cell_type": "code",
   "execution_count": 16,
   "id": "dbade991",
   "metadata": {},
   "outputs": [
    {
     "name": "stdout",
     "output_type": "stream",
     "text": [
      "       Nama Gender  Angkatan Tinggi Jurusan Fakultas\n",
      "30     Rina      P      2023  small   TIF23      FTI\n",
      "31     Rini      P      2023  large   TIF23      FTI\n",
      "32     Rino      P      2023  large   TIF23      FTI\n",
      "33     Dina      P      2023  large   TIF23      FTI\n",
      "34     Dini      P      2023  large   TIF23      FTI\n",
      "35  Mutiara      P      2023  large   TIF23      FTI\n",
      "36   Monica      P      2023  large   TIF23      FTI\n",
      "37    Naswa      P      2023  large   TIF23      FTI\n",
      "38     Rifa      P      2023  large   TIF23      FTI\n",
      "39     Rida      P      2023  large   TIF23      FTI\n"
     ]
    },
    {
     "name": "stderr",
     "output_type": "stream",
     "text": [
      "C:\\Users\\Adkur\\AppData\\Local\\Temp\\ipykernel_17980\\3803840372.py:2: SettingWithCopyWarning: \n",
      "A value is trying to be set on a copy of a slice from a DataFrame.\n",
      "Try using .loc[row_indexer,col_indexer] = value instead\n",
      "\n",
      "See the caveats in the documentation: https://pandas.pydata.org/pandas-docs/stable/user_guide/indexing.html#returning-a-view-versus-a-copy\n",
      "  vira['Jurusan'] = 'TIF23'\n",
      "C:\\Users\\Adkur\\AppData\\Local\\Temp\\ipykernel_17980\\3803840372.py:3: SettingWithCopyWarning: \n",
      "A value is trying to be set on a copy of a slice from a DataFrame.\n",
      "Try using .loc[row_indexer,col_indexer] = value instead\n",
      "\n",
      "See the caveats in the documentation: https://pandas.pydata.org/pandas-docs/stable/user_guide/indexing.html#returning-a-view-versus-a-copy\n",
      "  vira['Fakultas'] = 'FTI'\n"
     ]
    }
   ],
   "source": [
    "# Menambahkan kolom baru 'newvariable' \n",
    "vira['Jurusan'] = 'TIF23'\n",
    "vira['Fakultas'] = 'FTI'\n",
    "\n",
    "# Menampilkan DataFrame 'nama' setelah penambahan kolom baru\n",
    "print(vira)\n",
    "\n"
   ]
  },
  {
   "cell_type": "code",
   "execution_count": 17,
   "id": "e4653eb8",
   "metadata": {},
   "outputs": [
    {
     "name": "stdout",
     "output_type": "stream",
     "text": [
      "       Nama Gender  Angkatan Tinggi Jurusan\n",
      "30     Rina      P      2023  small   TIF23\n",
      "31     Rini      P      2023  large   TIF23\n",
      "32     Rino      P      2023  large   TIF23\n",
      "33     Dina      P      2023  large   TIF23\n",
      "34     Dini      P      2023  large   TIF23\n",
      "35  Mutiara      P      2023  large   TIF23\n",
      "36   Monica      P      2023  large   TIF23\n",
      "37    Naswa      P      2023  large   TIF23\n",
      "38     Rifa      P      2023  large   TIF23\n",
      "39     Rida      P      2023  large   TIF23\n"
     ]
    }
   ],
   "source": [
    "vira = vira.drop(columns=['Fakultas'])\n",
    "\n",
    "# Menampilkan DataFrame 'nama' \n",
    "print(vira)"
   ]
  },
  {
   "cell_type": "code",
   "execution_count": 18,
   "id": "729d482c",
   "metadata": {},
   "outputs": [
    {
     "name": "stdout",
     "output_type": "stream",
     "text": [
      "         Nama Gender\n",
      "0        Dony      L\n",
      "1     Bambang      L\n",
      "2       Rehan      L\n",
      "3      Rayyan      L\n",
      "4     Dewanto      L\n",
      "5       Felix      L\n",
      "6        Adit      L\n",
      "7   Kurniawan      L\n",
      "8        Bayu      L\n",
      "9        Udin      L\n",
      "10      Ahmad      L\n",
      "11     Badrun      L\n",
      "12       Puki      L\n",
      "13        Nen      L\n",
      "14      Supri      L\n",
      "15     Adrian      L\n",
      "16      Sapri      L\n",
      "17       Lulu      L\n",
      "18      Cucok      L\n",
      "19       Lola      L\n",
      "20     Bujang      L\n",
      "21      Bajai      L\n",
      "22        Dul      L\n",
      "23       Budi      L\n",
      "24     Badrul      L\n",
      "25      Pupey      L\n",
      "26      Salim      L\n",
      "27      Salam      L\n",
      "28   Sudirman      L\n",
      "29      Salur      L\n",
      "30       Rina      P\n",
      "31       Rini      P\n",
      "32       Rino      P\n",
      "33       Dina      P\n",
      "34       Dini      P\n",
      "35    Mutiara      P\n",
      "36     Monica      P\n",
      "37      Naswa      P\n",
      "38       Rifa      P\n",
      "39       Rida      P\n"
     ]
    }
   ],
   "source": [
    "kolom1dan2 = data_vira.iloc[:, 0:2]\n",
    "\n",
    "# Menampilkan DataFrame kolom1dan2\n",
    "print(kolom1dan2)"
   ]
  },
  {
   "cell_type": "code",
   "execution_count": 21,
   "id": "ca6ddc7b",
   "metadata": {},
   "outputs": [
    {
     "name": "stdout",
     "output_type": "stream",
     "text": [
      "        Nama Gender  Angkatan  Tinggi\n",
      "0       Dony      L      2023     100\n",
      "1    Bambang      L      2023     101\n",
      "2      Rehan      L      2023     102\n",
      "3     Rayyan      L      2023     103\n",
      "26     Salim      L      2023     126\n",
      "27     Salam      L      2023     127\n",
      "28  Sudirman      L      2023     128\n",
      "29     Salur      L      2023     129\n"
     ]
    },
    {
     "name": "stderr",
     "output_type": "stream",
     "text": [
      "C:\\Users\\Adkur\\AppData\\Local\\Temp\\ipykernel_17980\\578374247.py:4: FutureWarning: The frame.append method is deprecated and will be removed from pandas in a future version. Use pandas.concat instead.\n",
      "  baris1sd30 = baris1sd4.append(baris26sd30)\n"
     ]
    }
   ],
   "source": [
    "# Menggabungkan baris dari dua DataFrame\n",
    "baris1sd4 = data_vira.iloc[0:4, :]\n",
    "baris26sd30 = data_vira.iloc[26:30, :]\n",
    "baris1sd30 = baris1sd4.append(baris26sd30)\n",
    "\n",
    "# Menampilkan DataFrame baris1sd6\n",
    "print(baris1sd30)\n"
   ]
  },
  {
   "cell_type": "code",
   "execution_count": 23,
   "id": "0e3f8545",
   "metadata": {},
   "outputs": [
    {
     "name": "stdout",
     "output_type": "stream",
     "text": [
      "         Nama Gender  Angkatan  Tinggi\n",
      "0        Dony      L      2023     100\n",
      "1     Bambang      L      2023     101\n",
      "2       Rehan      L      2023     102\n",
      "3      Rayyan      L      2023     103\n",
      "4     Dewanto      L      2023     104\n",
      "5       Felix      L      2023     105\n",
      "6        Adit      L      2023     106\n",
      "7   Kurniawan      L      2023     107\n",
      "8        Bayu      L      2023     108\n",
      "9        Udin      L      2023     109\n",
      "10      Ahmad      L      2023     110\n",
      "11     Badrun      L      2023     111\n",
      "12       Puki      L      2023     112\n",
      "13        Nen      L      2023     113\n",
      "14      Supri      L      2023     114\n",
      "15     Adrian      L      2023     115\n",
      "16      Sapri      L      2023     116\n",
      "17       Lulu      L      2023     117\n",
      "18      Cucok      L      2023     118\n",
      "19       Lola      L      2023     119\n",
      "20     Bujang      L      2023     120\n",
      "21      Bajai      L      2023     121\n",
      "22        Dul      L      2023     122\n",
      "23       Budi      L      2023     123\n",
      "24     Badrul      L      2023     124\n",
      "25      Pupey      L      2023     125\n",
      "26      Salim      L      2023     126\n",
      "27      Salam      L      2023     127\n",
      "28   Sudirman      L      2023     128\n",
      "29      Salur      L      2023     129\n",
      "30       Rina      P      2023     130\n",
      "31       Rini      P      2023     131\n",
      "32       Rino      P      2023     132\n",
      "33       Dina      P      2023     133\n",
      "34       Dini      P      2023     134\n",
      "35    Mutiara      P      2023     135\n",
      "36     Monica      P      2023     136\n",
      "37      Naswa      P      2023     137\n",
      "38       Rifa      P      2023     138\n",
      "39       Rida      P      2023     139\n"
     ]
    }
   ],
   "source": [
    "data_vira_sort = data_vira.sort_values(by='Tinggi')\n",
    "\n",
    "print(data_vira_sort)"
   ]
  },
  {
   "cell_type": "code",
   "execution_count": null,
   "id": "ed28e496",
   "metadata": {},
   "outputs": [],
   "source": []
  }
 ],
 "metadata": {
  "kernelspec": {
   "display_name": "Python 3 (ipykernel)",
   "language": "python",
   "name": "python3"
  },
  "language_info": {
   "codemirror_mode": {
    "name": "ipython",
    "version": 3
   },
   "file_extension": ".py",
   "mimetype": "text/x-python",
   "name": "python",
   "nbconvert_exporter": "python",
   "pygments_lexer": "ipython3",
   "version": "3.11.4"
  }
 },
 "nbformat": 4,
 "nbformat_minor": 5
}
